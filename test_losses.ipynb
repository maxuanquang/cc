{
 "cells": [
  {
   "cell_type": "code",
   "execution_count": 1,
   "id": "grave-majority",
   "metadata": {},
   "outputs": [],
   "source": [
    "import torch\n",
    "from torch import nn\n",
    "from torch.autograd import Variable\n",
    "from inverse_warp import inverse_warp, flow_warp, pose2flow\n",
    "from ssim import ssim\n",
    "epsilon = 1e-8"
   ]
  },
  {
   "cell_type": "code",
   "execution_count": 2,
   "id": "combined-minority",
   "metadata": {},
   "outputs": [],
   "source": [
    "def spatial_normalize(disp):\n",
    "    _mean = disp.mean(dim=1, keepdim=True).mean(dim=2, keepdim=True).mean(dim=3, keepdim=True)\n",
    "    disp = disp / _mean\n",
    "    return disp"
   ]
  },
  {
   "cell_type": "code",
   "execution_count": 4,
   "id": "bibliographic-johns",
   "metadata": {},
   "outputs": [
    {
     "data": {
      "text/plain": [
       "'1.7.1'"
      ]
     },
     "execution_count": 4,
     "metadata": {},
     "output_type": "execute_result"
    }
   ],
   "source": [
    "torch.__version__"
   ]
  },
  {
   "cell_type": "code",
   "execution_count": 10,
   "id": "commercial-preservation",
   "metadata": {},
   "outputs": [],
   "source": [
    "disp = torch.rand(3,300,300)"
   ]
  },
  {
   "cell_type": "code",
   "execution_count": 11,
   "id": "prostate-trash",
   "metadata": {},
   "outputs": [
    {
     "ename": "IndexError",
     "evalue": "Dimension out of range (expected to be in range of [-3, 2], but got 3)",
     "output_type": "error",
     "traceback": [
      "\u001b[1;31m---------------------------------------------------------------------------\u001b[0m",
      "\u001b[1;31mIndexError\u001b[0m                                Traceback (most recent call last)",
      "\u001b[1;32m<ipython-input-11-712a4532e73d>\u001b[0m in \u001b[0;36m<module>\u001b[1;34m\u001b[0m\n\u001b[1;32m----> 1\u001b[1;33m \u001b[0mspatial_normalize\u001b[0m\u001b[1;33m(\u001b[0m\u001b[0mdisp\u001b[0m\u001b[1;33m)\u001b[0m\u001b[1;33m\u001b[0m\u001b[1;33m\u001b[0m\u001b[0m\n\u001b[0m",
      "\u001b[1;32m<ipython-input-2-8f2340b90f31>\u001b[0m in \u001b[0;36mspatial_normalize\u001b[1;34m(disp)\u001b[0m\n\u001b[0;32m      1\u001b[0m \u001b[1;32mdef\u001b[0m \u001b[0mspatial_normalize\u001b[0m\u001b[1;33m(\u001b[0m\u001b[0mdisp\u001b[0m\u001b[1;33m)\u001b[0m\u001b[1;33m:\u001b[0m\u001b[1;33m\u001b[0m\u001b[1;33m\u001b[0m\u001b[0m\n\u001b[1;32m----> 2\u001b[1;33m     \u001b[0m_mean\u001b[0m \u001b[1;33m=\u001b[0m \u001b[0mdisp\u001b[0m\u001b[1;33m.\u001b[0m\u001b[0mmean\u001b[0m\u001b[1;33m(\u001b[0m\u001b[0mdim\u001b[0m\u001b[1;33m=\u001b[0m\u001b[1;36m1\u001b[0m\u001b[1;33m,\u001b[0m \u001b[0mkeepdim\u001b[0m\u001b[1;33m=\u001b[0m\u001b[1;32mTrue\u001b[0m\u001b[1;33m)\u001b[0m\u001b[1;33m.\u001b[0m\u001b[0mmean\u001b[0m\u001b[1;33m(\u001b[0m\u001b[0mdim\u001b[0m\u001b[1;33m=\u001b[0m\u001b[1;36m2\u001b[0m\u001b[1;33m,\u001b[0m \u001b[0mkeepdim\u001b[0m\u001b[1;33m=\u001b[0m\u001b[1;32mTrue\u001b[0m\u001b[1;33m)\u001b[0m\u001b[1;33m.\u001b[0m\u001b[0mmean\u001b[0m\u001b[1;33m(\u001b[0m\u001b[0mdim\u001b[0m\u001b[1;33m=\u001b[0m\u001b[1;36m3\u001b[0m\u001b[1;33m,\u001b[0m \u001b[0mkeepdim\u001b[0m\u001b[1;33m=\u001b[0m\u001b[1;32mTrue\u001b[0m\u001b[1;33m)\u001b[0m\u001b[1;33m\u001b[0m\u001b[1;33m\u001b[0m\u001b[0m\n\u001b[0m\u001b[0;32m      3\u001b[0m     \u001b[0mdisp\u001b[0m \u001b[1;33m=\u001b[0m \u001b[0mdisp\u001b[0m \u001b[1;33m/\u001b[0m \u001b[0m_mean\u001b[0m\u001b[1;33m\u001b[0m\u001b[1;33m\u001b[0m\u001b[0m\n\u001b[0;32m      4\u001b[0m     \u001b[1;32mreturn\u001b[0m \u001b[0mdisp\u001b[0m\u001b[1;33m\u001b[0m\u001b[1;33m\u001b[0m\u001b[0m\n",
      "\u001b[1;31mIndexError\u001b[0m: Dimension out of range (expected to be in range of [-3, 2], but got 3)"
     ]
    }
   ],
   "source": [
    "spatial_normalize(disp)"
   ]
  },
  {
   "cell_type": "code",
   "execution_count": null,
   "id": "absent-conclusion",
   "metadata": {},
   "outputs": [],
   "source": [
    "Namespace(DEBUG=False, THRESH=0.01, alternating=False, batch_size=4, beta=0.999, cam_photo_loss_weight=1, clamp_masks=False, consensus_loss_weight=0.1, data='quang', data_normalization='global', dataset_format='sequential', dispnet='DispNetS', epoch_size=0, epochs=200, evaluate=False, fix_dispnet=False, fix_flownet=False, fix_masknet=False, fix_posemasknet=False, fix_posenet=False, flow_photo_loss_weight=1, flownet='FlowNetS', joint_mask_for_depth=False, kitti_dir='kitti/kitti2015', lambda_oob=0, log_full='progress_log_full.csv', log_output=False, log_summary='progress_log_summary.csv', log_terminal=False, lr=0.0002, mask_loss_weight=0, masknet='MaskNet', momentum=0.9, name='quang', nlevels=6, no_non_rigid_mask=False, padding_mode='zeros', posenet='PoseNet', pretrained_disp=None, pretrained_flow=None, pretrained_mask=None, pretrained_pose=None, print_freq=10, qch=0.5, resume=False, robust=False, rotation_mode='euler', seed=0, sequence_length=5, smooth_loss_weight=0.1, smoothness_type='regular', spatial_normalize=False, training_output_freq=0, wbce=0.5, weight_decay=0, with_depth_gt=False, with_flow_gt=False, workers=4, wrig=1.0, wssim=0.0)"
   ]
  }
 ],
 "metadata": {
  "kernelspec": {
   "display_name": "torchenv",
   "language": "python",
   "name": "torchenv"
  },
  "language_info": {
   "codemirror_mode": {
    "name": "ipython",
    "version": 3
   },
   "file_extension": ".py",
   "mimetype": "text/x-python",
   "name": "python",
   "nbconvert_exporter": "python",
   "pygments_lexer": "ipython3",
   "version": "3.8.5"
  }
 },
 "nbformat": 4,
 "nbformat_minor": 5
}
