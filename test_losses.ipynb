{
 "cells": [
  {
   "cell_type": "code",
   "execution_count": 1,
   "id": "pacific-plastic",
   "metadata": {},
   "outputs": [],
   "source": [
    "from tensorboardX import SummaryWriter"
   ]
  },
  {
   "cell_type": "code",
   "execution_count": 2,
   "id": "hispanic-carolina",
   "metadata": {},
   "outputs": [],
   "source": [
    "import argparse\n",
    "import time\n",
    "import csv\n",
    "import datetime\n",
    "import os\n",
    "\n",
    "import numpy as np\n",
    "import torch\n",
    "from torch.autograd import Variable\n",
    "import torch.backends.cudnn as cudnn"
   ]
  },
  {
   "cell_type": "code",
   "execution_count": 6,
   "id": "rocky-tomato",
   "metadata": {},
   "outputs": [],
   "source": [
    "save_path = 'test_2011_10_03'\n",
    "save_path = 'checkpoints\\\\'+save_path #/timestamp"
   ]
  },
  {
   "cell_type": "code",
   "execution_count": 8,
   "id": "maritime-trial",
   "metadata": {},
   "outputs": [],
   "source": [
    "training_writer = SummaryWriter(save_path)"
   ]
  },
  {
   "cell_type": "code",
   "execution_count": 14,
   "id": "covered-yahoo",
   "metadata": {},
   "outputs": [],
   "source": [
    "training_writer.add_image('test img',torch.tensor(np.random.rand(3,300,300)))"
   ]
  },
  {
   "cell_type": "code",
   "execution_count": 15,
   "id": "fancy-character",
   "metadata": {},
   "outputs": [],
   "source": [
    "training_writer.close()"
   ]
  }
 ],
 "metadata": {
  "kernelspec": {
   "display_name": "torchenv",
   "language": "python",
   "name": "torchenv"
  },
  "language_info": {
   "codemirror_mode": {
    "name": "ipython",
    "version": 3
   },
   "file_extension": ".py",
   "mimetype": "text/x-python",
   "name": "python",
   "nbconvert_exporter": "python",
   "pygments_lexer": "ipython3",
   "version": "3.8.5"
  }
 },
 "nbformat": 4,
 "nbformat_minor": 5
}
